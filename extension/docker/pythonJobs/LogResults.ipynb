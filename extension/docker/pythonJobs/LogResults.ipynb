{
 "cells": [
  {
   "cell_type": "code",
   "execution_count": 1,
   "metadata": {},
   "outputs": [],
   "source": [
    "from pymongo import MongoClient\n",
    "from datetime import datetime\n",
    "import redis\n",
    "import time\n",
    "import pickle\n",
    "import psycopg2\n",
    "import json\n"
   ]
  },
  {
   "cell_type": "code",
   "execution_count": 2,
   "metadata": {},
   "outputs": [
    {
     "name": "stdout",
     "output_type": "stream",
     "text": [
      "(2, 'extension2', {'current': []})\n"
     ]
    }
   ],
   "source": [
    "# Connect to postgres database\n",
    "\n",
    "connection = psycopg2.connect(\n",
    "    host=\"db\",\n",
    "    database=\"testing\",\n",
    "    user=\"postgres\",\n",
    "    password=\"example\"\n",
    ")\n",
    "postgres = connection.cursor()"
   ]
  },
  {
   "cell_type": "code",
   "execution_count": 6,
   "metadata": {},
   "outputs": [],
   "source": [
    "# Connect to redis\n",
    "\n",
    "pool = redis.ConnectionPool(host=\"queue\", port=6379, db=0)\n",
    "r = redis.Redis(connection_pool=pool)\n",
    "p = r.pubsub()\n",
    "\n",
    "p.subscribe(\"Log\")\n",
    "\n",
    "p.get_message()\n",
    "time.sleep(0.5)"
   ]
  },
  {
   "cell_type": "code",
   "execution_count": 7,
   "metadata": {},
   "outputs": [],
   "source": [
    "def getNextInQueue(p) :\n",
    "    ### \n",
    "    # Get incoming items in the queue as a generator\n",
    "    ###\n",
    "    for mes in p.listen() :\n",
    "        if type(mes[\"data\"]) == type(b'') :\n",
    "            yield pickle.loads(mes[\"data\"])"
   ]
  },
  {
   "cell_type": "code",
   "execution_count": 8,
   "metadata": {},
   "outputs": [],
   "source": [
    "# SQL\n",
    "\n",
    "def sqlGetUser(id) :\n",
    "    ###\n",
    "    # Get the sql query to create a new user\n",
    "    ###\n",
    "    return \"SELECT * FROM users WHERE users.extensionID = '{}';\".format(id)\n",
    "\n",
    "def sqlAddDiff(id, diff, date) :\n",
    "    ###\n",
    "    # Get the sql query to create a new diff\n",
    "    ###\n",
    "    return \"INSERT INTO diffs VALUES ({0}, '{3}', '{1}', '{2}')\".format(id, json.dumps({\"+\": diff[\"+\"]}), json.dumps({\"-\": diff[\"-\"]}), date)\n",
    "\n",
    "def sqlUpdateUser(id, newCurrent) :\n",
    "    ###\n",
    "    # Get the sql query to update the current lists for user with users.id = id  \n",
    "    ###\n",
    "    return \"UPDATE users SET current = '{0}' WHERE users.id = {1};\".format(\n",
    "            json.dumps({\"current\": newCurrent}),\n",
    "            id\n",
    "        )\n",
    "\n",
    "def sqlCreateUser(id, current) :\n",
    "    return \"INSERT INTO users(extensionID, current) VALUES ('{0}', '{1}')\".format(id, json.dumps({\"current\": current}))\n"
   ]
  },
  {
   "cell_type": "code",
   "execution_count": 9,
   "metadata": {},
   "outputs": [
    {
     "name": "stdout",
     "output_type": "stream",
     "text": [
      "{'type': 'message', 'pattern': None, 'channel': b'Log', 'data': b'\\x80\\x04\\x95\"\\x00\\x00\\x00\\x00\\x00\\x00\\x00\\x8c\\textension\\x94]\\x94(\\x8c\\x02L1\\x94\\x8c\\x02L2\\x94\\x8c\\x02L3\\x94e\\x86\\x94.'}\n",
      "{'type': 'message', 'pattern': None, 'channel': b'Log', 'data': b'\\x80\\x04\\x95\\x11\\x00\\x00\\x00\\x00\\x00\\x00\\x00\\x8c\\textension\\x94]\\x94\\x86\\x94.'}\n",
      "{'type': 'message', 'pattern': None, 'channel': b'Log', 'data': b'\\x80\\x04\\x95\"\\x00\\x00\\x00\\x00\\x00\\x00\\x00\\x8c\\textension\\x94]\\x94(\\x8c\\x02L1\\x94\\x8c\\x02L2\\x94\\x8c\\x02L3\\x94e\\x86\\x94.'}\n",
      "{'type': 'message', 'pattern': None, 'channel': b'Log', 'data': b'\\x80\\x04\\x95\\x17\\x00\\x00\\x00\\x00\\x00\\x00\\x00\\x8c\\textension\\x94]\\x94\\x8c\\x02L1\\x94a\\x86\\x94.'}\n"
     ]
    }
   ],
   "source": [
    "for item in getNextInQueue(p) :\n",
    "    # Get corresponding user\n",
    "    postgres.execute(sqlGetUser(item[0]))\n",
    "    user = postgres.fetchone()\n",
    "    date = str(datetime.now())\n",
    "\n",
    "    if user != None :\n",
    "        # user already exists\n",
    "        if user[-1][\"current\"] == item[1] :\n",
    "            continue\n",
    "\n",
    "        diff = {\n",
    "            \"+\" : [l for l in item[1] if l not in user[-1][\"current\"]],\n",
    "            \"-\" : [l for l in user[-1][\"current\"] if l not in item[1]]\n",
    "        }\n",
    "\n",
    "        postgres.execute(sqlAddDiff(user[0], diff, date))\n",
    "        postgres.execute(sqlUpdateUser(user[0], item[1]))\n",
    "    else :\n",
    "        # create new user\n",
    "        postgres.execute(sqlCreateUser(item[0], item[1]))\n",
    "        postgres.execute(sqlGetUser(item[0]))\n",
    "        user = postgres.fetchone()\n",
    "        # Add initial diff\n",
    "        postgres.execute(sqlAddDiff(user[0], {\"+\": item[1], \"-\": []}, date))\n",
    "\n",
    "    # Commit changes to the database\n",
    "    connection.commit()\n",
    "\n",
    "\n",
    "    \n",
    "\n",
    "        "
   ]
  }
 ],
 "metadata": {
  "kernelspec": {
   "display_name": "Python 3.9.2 64-bit",
   "language": "python",
   "name": "python3"
  },
  "language_info": {
   "codemirror_mode": {
    "name": "ipython",
    "version": 3
   },
   "file_extension": ".py",
   "mimetype": "text/x-python",
   "name": "python",
   "nbconvert_exporter": "python",
   "pygments_lexer": "ipython3",
   "version": "3.9.2"
  },
  "orig_nbformat": 4,
  "vscode": {
   "interpreter": {
    "hash": "916dbcbb3f70747c44a77c7bcd40155683ae19c65e1c03b4aa3499c5328201f1"
   }
  }
 },
 "nbformat": 4,
 "nbformat_minor": 2
}
