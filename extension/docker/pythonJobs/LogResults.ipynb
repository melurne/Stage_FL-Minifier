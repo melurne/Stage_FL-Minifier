{
 "cells": [
  {
   "cell_type": "code",
   "execution_count": 1,
   "metadata": {},
   "outputs": [],
   "source": [
    "from datetime import datetime\n",
    "import redis\n",
    "import time\n",
    "import pickle\n",
    "import psycopg2\n",
    "import json\n"
   ]
  },
  {
   "cell_type": "code",
   "execution_count": 3,
   "metadata": {},
   "outputs": [],
   "source": [
    "# Connect to postgres database\n",
    "\n",
    "connection = psycopg2.connect(\n",
    "    host=\"localhost\",\n",
    "    database=\"testing\",\n",
    "    user=\"postgres\",\n",
    "    password=\"example\"\n",
    ")\n",
    "postgres = connection.cursor()"
   ]
  },
  {
   "cell_type": "code",
   "execution_count": null,
   "metadata": {},
   "outputs": [],
   "source": [
    "# Connect to redis\n",
    "\n",
    "pool = redis.ConnectionPool(host=\"queue\", port=6379, db=0)\n",
    "r = redis.Redis(connection_pool=pool)\n",
    "p = r.pubsub()\n",
    "\n",
    "p.subscribe(\"Log\")\n",
    "\n",
    "p.get_message()\n",
    "time.sleep(0.5)"
   ]
  },
  {
   "cell_type": "code",
   "execution_count": null,
   "metadata": {},
   "outputs": [],
   "source": [
    "def getNextInQueue(p) :\n",
    "    \"\"\" \n",
    "    Get incoming items in the queue as a generator\n",
    "    \"\"\"\n",
    "    for mes in p.listen() :\n",
    "        if type(mes[\"data\"]) == type(b'') :\n",
    "            yield pickle.loads(mes[\"data\"])"
   ]
  },
  {
   "cell_type": "code",
   "execution_count": null,
   "metadata": {},
   "outputs": [],
   "source": [
    "# SQL\n",
    "\n",
    "def sqlGetUser(id) :\n",
    "    \"\"\"\n",
    "    Get the sql query to create a new user\n",
    "    \"\"\"\n",
    "    return \"SELECT * FROM users WHERE users.extensionID = '{}';\".format(id)\n",
    "\n",
    "def sqlAddDiff(id, diff, date) :\n",
    "    \"\"\"\n",
    "    Get the sql query to create a new diff\n",
    "    \"\"\"\n",
    "    return \"INSERT INTO diffs VALUES ({0}, '{3}', '{1}', '{2}')\".format(id, json.dumps({\"+\": diff[\"+\"]}), json.dumps({\"-\": diff[\"-\"]}), date)\n",
    "\n",
    "def sqlUpdateUser(id, newCurrent) :\n",
    "    \"\"\"\n",
    "    Get the sql query to update the current lists for user with users.id = id  \n",
    "    \"\"\"\n",
    "    return \"UPDATE users SET current = '{0}' WHERE users.id = {1};\".format(\n",
    "            json.dumps({\"current\": newCurrent}),\n",
    "            id\n",
    "        )\n",
    "\n",
    "def sqlCreateUser(id, current) :\n",
    "    # return \"INSERT INTO users(extensionID, current) VALUES ('{0}', '{1}')\".format(id, json.dumps({\"current\": current}))\n",
    "    return \"INSERT INTO listoflists DEFAULT VALUES; \\\n",
    "    INSERT INTO users(extensionID, current) VALUES ('{}', currval('listoflists_id_seq'));\".format(id)\n"
   ]
  },
  {
   "cell_type": "code",
   "execution_count": 13,
   "metadata": {},
   "outputs": [],
   "source": [
    "def createUser(id, current) :\n",
    "    postgres.execute(\"INSERT INTO listoflists DEFAULT VALUES RETURNING id;\")\n",
    "    listid = postgres.fetchone()[0]\n",
    "    postgres.execute(\"INSERT INTO users(extensionID, current) VALUES ('{0}', {1});\".format(id, listid))\n",
    "    for l in current :\n",
    "        postgres.execute(\"SELECT lists.id FROM lists WHERE lists.nom = '{}'\".format(l))\n",
    "        Lid = postgres.fetchone()[0]\n",
    "        postgres.execute(\"INSERT INTO listoflists_lists VALUES ({0}, {1})\".format(listid, Lid))\n",
    "    connection.commit()\n",
    "\n",
    "def updateUser(id, newCurrent) :\n",
    "    postgres.execute(\"SELECT users.current FROM users WHERE users.id = {}\".format(id))\n",
    "    listid = postgres.fetchone()[0]\n",
    "    postgres.execute(\"DELETE FROM listoflists_lists WHERE listoflists_lists.id = {}\".format(listid))\n",
    "    for l in newCurrent :\n",
    "        postgres.execute(\"SELECT lists.id FROM lists WHERE lists.nom = '{}'\".format(l))\n",
    "        Lid = postgres.fetchone()[0]\n",
    "        postgres.execute(\"INSERT INTO listoflists_lists VALUES ({0}, {1})\".format(listid, Lid))\n",
    "    \n",
    "    connection.commit()\n",
    "\n",
    "def addDiff(id, diff, date) :\n",
    "    postgres.execute(\"INSERT INTO listoflists DEFAULT VALUES RETURNING id;\")\n",
    "    plusid = postgres.fetchone()[0]\n",
    "    postgres.execute(\"INSERT INTO listoflists DEFAULT VALUES RETURNING id;\")\n",
    "    minusid = postgres.fetchone()[0]\n",
    "    postgres.execute(\"INSERT INTO diffs VALUES ({0}, '{3}', {1}, {2})\".format(id, plusid, minusid, date))\n",
    "    for l in diff[\"+\"] :\n",
    "        postgres.execute(\"SELECT lists.id FROM lists WHERE lists.nom = '{}'\".format(l))\n",
    "        Lid = postgres.fetchone()[0]\n",
    "        postgres.execute(\"INSERT INTO listoflists_lists VALUES ({0}, {1})\".format(plusid, Lid))\n",
    "    for l in diff[\"-\"] :\n",
    "        postgres.execute(\"SELECT lists.id FROM lists WHERE lists.nom = '{}'\".format(l))\n",
    "        Lid = postgres.fetchone()[0]\n",
    "        postgres.execute(\"INSERT INTO listoflists_lists VALUES ({0}, {1})\".format(minusid, Lid))\n",
    "    connection.commit()\n",
    "\n",
    "connection.commit()\n",
    "# updateUser(3, [\"L1\"])\n",
    "addDiff(3, {\"+\": [], \"-\":[\"L2\"]}, str(datetime.now()))"
   ]
  },
  {
   "cell_type": "code",
   "execution_count": null,
   "metadata": {},
   "outputs": [],
   "source": [
    "for item in getNextInQueue(p) :\n",
    "    # Get corresponding user\n",
    "    postgres.execute(sqlGetUser(item[0]))\n",
    "    user = postgres.fetchone()\n",
    "    date = str(datetime.now())\n",
    "\n",
    "    if user != None :\n",
    "        # user already exists\n",
    "        if user[-1][\"current\"] == item[1] :\n",
    "            continue\n",
    "\n",
    "        diff = {\n",
    "            \"+\" : [l for l in item[1] if l not in user[-1][\"current\"]],\n",
    "            \"-\" : [l for l in user[-1][\"current\"] if l not in item[1]]\n",
    "        }\n",
    "\n",
    "        postgres.execute(sqlAddDiff(user[0], diff, date))\n",
    "        postgres.execute(sqlUpdateUser(user[0], item[1]))\n",
    "    else :\n",
    "        # create new user\n",
    "        postgres.execute(sqlCreateUser(item[0], item[1]))\n",
    "        postgres.execute(sqlGetUser(item[0]))\n",
    "        user = postgres.fetchone()\n",
    "        # Add initial diff\n",
    "        postgres.execute(sqlAddDiff(user[0], {\"+\": item[1], \"-\": []}, date))\n",
    "\n",
    "    # Commit changes to the database\n",
    "    connection.commit()\n",
    "\n",
    "\n",
    "    \n",
    "\n",
    "        "
   ]
  }
 ],
 "metadata": {
  "kernelspec": {
   "display_name": "Python 3.9.2 64-bit",
   "language": "python",
   "name": "python3"
  },
  "language_info": {
   "codemirror_mode": {
    "name": "ipython",
    "version": 3
   },
   "file_extension": ".py",
   "mimetype": "text/x-python",
   "name": "python",
   "nbconvert_exporter": "python",
   "pygments_lexer": "ipython3",
   "version": "3.9.2"
  },
  "orig_nbformat": 4,
  "vscode": {
   "interpreter": {
    "hash": "916dbcbb3f70747c44a77c7bcd40155683ae19c65e1c03b4aa3499c5328201f1"
   }
  }
 },
 "nbformat": 4,
 "nbformat_minor": 2
}
