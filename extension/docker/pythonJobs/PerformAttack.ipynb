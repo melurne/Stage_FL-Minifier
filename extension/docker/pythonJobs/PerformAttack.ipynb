{
 "cells": [
  {
   "cell_type": "code",
   "execution_count": 1,
   "metadata": {},
   "outputs": [],
   "source": [
    "import redis\n",
    "import time\n",
    "import pickle\n",
    "import json"
   ]
  },
  {
   "cell_type": "code",
   "execution_count": 2,
   "metadata": {},
   "outputs": [],
   "source": [
    "def getLUT() :\n",
    "    \"\"\" \n",
    "        LUT de test avec 3 listes et 5 règles: \n",
    "            L1 = {0, 1, 3, 4}, \n",
    "            L2 = {0, 2, 3}, \n",
    "            L3 = {1, 2, 4}\n",
    "    \"\"\"\n",
    "    return {\n",
    "            pickle.dumps([False, False, False, False, False]) : [],\n",
    "            pickle.dumps([False, True, True, False, True]) : [\"L3\"],\n",
    "            pickle.dumps([True, False, True, True, False]) : [\"L2\"],\n",
    "            pickle.dumps([True, False, True, True, True]) : [\"L2\", \"L3\"],\n",
    "            pickle.dumps([True, True, False, True, True]) : [\"L1\"],\n",
    "            pickle.dumps([True, True, True, True, True]) : [\"L1\", \"L2\", \"L3\"]\n",
    "    }"
   ]
  },
  {
   "cell_type": "code",
   "execution_count": 3,
   "metadata": {},
   "outputs": [],
   "source": [
    "def computeAttack(tests) :\n",
    "    lut = getLUT()\n",
    "    return lut[pickle.dumps(tests)]"
   ]
  },
  {
   "cell_type": "code",
   "execution_count": 4,
   "metadata": {},
   "outputs": [],
   "source": [
    "pool = redis.ConnectionPool(host=\"queue\", port=6379, db=0)\n",
    "r = redis.Redis(connection_pool=pool)\n",
    "p = r.pubsub()\n",
    "\n",
    "p.subscribe(\"Queue\")\n",
    "\n",
    "p.get_message()\n",
    "time.sleep(0.5)\n",
    "def getData(p) :\n",
    "    for mes in p.listen() :\n",
    "        print(mes)\n",
    "        if type(mes[\"data\"]) == type(b'') :\n",
    "            yield json.loads(mes[\"data\"])\n"
   ]
  },
  {
   "cell_type": "code",
   "execution_count": 5,
   "metadata": {},
   "outputs": [
    {
     "name": "stdout",
     "output_type": "stream",
     "text": [
      "{'type': 'subscribe', 'pattern': None, 'channel': b'Queue', 'data': 1}\n",
      "{'type': 'message', 'pattern': None, 'channel': b'Queue', 'data': b'{\"id\":\"extension\",\"results\":[true,false,true,true,false]}'}\n",
      "{'type': 'message', 'pattern': None, 'channel': b'Queue', 'data': b'{\"id\":\"extension\",\"results\":[true,false,true,true,false]}'}\n",
      "{'type': 'message', 'pattern': None, 'channel': b'Queue', 'data': b'{\"id\":\"extension\",\"results\":[true,false,true,true,false]}'}\n",
      "{'type': 'message', 'pattern': None, 'channel': b'Queue', 'data': b'{\"id\":\"extension\",\"results\":[true,false,true,true,false]}'}\n",
      "{'type': 'message', 'pattern': None, 'channel': b'Queue', 'data': b'{\"id\":\"extension\",\"results\":[true,false,true,true,false]}'}\n",
      "{'type': 'message', 'pattern': None, 'channel': b'Queue', 'data': b'{\"id\":\"extension\",\"results\":[true,false,true,true,false]}'}\n",
      "{'type': 'message', 'pattern': None, 'channel': b'Queue', 'data': b'{\"id\":\"extension\",\"results\":[true,false,true,true,false]}'}\n",
      "{'type': 'message', 'pattern': None, 'channel': b'Queue', 'data': b'{\"id\":\"extension\",\"results\":[true,false,true,true,false]}'}\n",
      "{'type': 'message', 'pattern': None, 'channel': b'Queue', 'data': b'{\"id\":\"extension\",\"results\":[true,false,true,true,false]}'}\n",
      "{'type': 'message', 'pattern': None, 'channel': b'Queue', 'data': b'{\"id\":\"extension\",\"results\":[true,false,true,true,false]}'}\n",
      "{'type': 'message', 'pattern': None, 'channel': b'Queue', 'data': b'{\"id\":\"extension\",\"results\":[true,false,true,true,false]}'}\n"
     ]
    },
    {
     "ename": "ConnectionError",
     "evalue": "Connection closed by server.",
     "output_type": "error",
     "traceback": [
      "\u001b[0;31m---------------------------------------------------------------------------\u001b[0m",
      "\u001b[0;31mConnectionError\u001b[0m                           Traceback (most recent call last)",
      "\u001b[1;32m/home/maxence/StageInria/Stage_FL-Minifier/extension/docker/pythonJobs/PerformAttack.ipynb Cell 5\u001b[0m in \u001b[0;36m<cell line: 1>\u001b[0;34m()\u001b[0m\n\u001b[0;32m----> <a href='vscode-notebook-cell:/home/maxence/StageInria/Stage_FL-Minifier/extension/docker/pythonJobs/PerformAttack.ipynb#W4sZmlsZQ%3D%3D?line=0'>1</a>\u001b[0m \u001b[39mfor\u001b[39;00m tests \u001b[39min\u001b[39;00m getData(p) :\n\u001b[1;32m      <a href='vscode-notebook-cell:/home/maxence/StageInria/Stage_FL-Minifier/extension/docker/pythonJobs/PerformAttack.ipynb#W4sZmlsZQ%3D%3D?line=1'>2</a>\u001b[0m     r\u001b[39m.\u001b[39mpublish(  channel\u001b[39m=\u001b[39m\u001b[39m\"\u001b[39m\u001b[39mLog\u001b[39m\u001b[39m\"\u001b[39m, \n\u001b[1;32m      <a href='vscode-notebook-cell:/home/maxence/StageInria/Stage_FL-Minifier/extension/docker/pythonJobs/PerformAttack.ipynb#W4sZmlsZQ%3D%3D?line=2'>3</a>\u001b[0m                 message\u001b[39m=\u001b[39mpickle\u001b[39m.\u001b[39mdumps(\n\u001b[1;32m      <a href='vscode-notebook-cell:/home/maxence/StageInria/Stage_FL-Minifier/extension/docker/pythonJobs/PerformAttack.ipynb#W4sZmlsZQ%3D%3D?line=3'>4</a>\u001b[0m                     (   \n\u001b[0;32m   (...)\u001b[0m\n\u001b[1;32m      <a href='vscode-notebook-cell:/home/maxence/StageInria/Stage_FL-Minifier/extension/docker/pythonJobs/PerformAttack.ipynb#W4sZmlsZQ%3D%3D?line=7'>8</a>\u001b[0m                 )\n\u001b[1;32m      <a href='vscode-notebook-cell:/home/maxence/StageInria/Stage_FL-Minifier/extension/docker/pythonJobs/PerformAttack.ipynb#W4sZmlsZQ%3D%3D?line=8'>9</a>\u001b[0m             )\n",
      "\u001b[1;32m/home/maxence/StageInria/Stage_FL-Minifier/extension/docker/pythonJobs/PerformAttack.ipynb Cell 5\u001b[0m in \u001b[0;36mgetData\u001b[0;34m(p)\u001b[0m\n\u001b[1;32m      <a href='vscode-notebook-cell:/home/maxence/StageInria/Stage_FL-Minifier/extension/docker/pythonJobs/PerformAttack.ipynb#W4sZmlsZQ%3D%3D?line=8'>9</a>\u001b[0m \u001b[39mdef\u001b[39;00m \u001b[39mgetData\u001b[39m(p) :\n\u001b[0;32m---> <a href='vscode-notebook-cell:/home/maxence/StageInria/Stage_FL-Minifier/extension/docker/pythonJobs/PerformAttack.ipynb#W4sZmlsZQ%3D%3D?line=9'>10</a>\u001b[0m     \u001b[39mfor\u001b[39;00m mes \u001b[39min\u001b[39;00m p\u001b[39m.\u001b[39mlisten() :\n\u001b[1;32m     <a href='vscode-notebook-cell:/home/maxence/StageInria/Stage_FL-Minifier/extension/docker/pythonJobs/PerformAttack.ipynb#W4sZmlsZQ%3D%3D?line=10'>11</a>\u001b[0m         \u001b[39mprint\u001b[39m(mes)\n\u001b[1;32m     <a href='vscode-notebook-cell:/home/maxence/StageInria/Stage_FL-Minifier/extension/docker/pythonJobs/PerformAttack.ipynb#W4sZmlsZQ%3D%3D?line=11'>12</a>\u001b[0m         \u001b[39mif\u001b[39;00m \u001b[39mtype\u001b[39m(mes[\u001b[39m\"\u001b[39m\u001b[39mdata\u001b[39m\u001b[39m\"\u001b[39m]) \u001b[39m==\u001b[39m \u001b[39mtype\u001b[39m(\u001b[39mb\u001b[39m\u001b[39m'\u001b[39m\u001b[39m'\u001b[39m) :\n",
      "File \u001b[0;32m/usr/local/lib/python3.9/dist-packages/redis/client.py:1622\u001b[0m, in \u001b[0;36mPubSub.listen\u001b[0;34m(self)\u001b[0m\n\u001b[1;32m   1620\u001b[0m \u001b[39m\"\u001b[39m\u001b[39mListen for messages on channels this client has been subscribed to\u001b[39m\u001b[39m\"\u001b[39m\n\u001b[1;32m   1621\u001b[0m \u001b[39mwhile\u001b[39;00m \u001b[39mself\u001b[39m\u001b[39m.\u001b[39msubscribed:\n\u001b[0;32m-> 1622\u001b[0m     response \u001b[39m=\u001b[39m \u001b[39mself\u001b[39m\u001b[39m.\u001b[39mhandle_message(\u001b[39mself\u001b[39;49m\u001b[39m.\u001b[39;49mparse_response(block\u001b[39m=\u001b[39;49m\u001b[39mTrue\u001b[39;49;00m))\n\u001b[1;32m   1623\u001b[0m     \u001b[39mif\u001b[39;00m response \u001b[39mis\u001b[39;00m \u001b[39mnot\u001b[39;00m \u001b[39mNone\u001b[39;00m:\n\u001b[1;32m   1624\u001b[0m         \u001b[39myield\u001b[39;00m response\n",
      "File \u001b[0;32m/usr/local/lib/python3.9/dist-packages/redis/client.py:1500\u001b[0m, in \u001b[0;36mPubSub.parse_response\u001b[0;34m(self, block, timeout)\u001b[0m\n\u001b[1;32m   1498\u001b[0m \u001b[39mif\u001b[39;00m \u001b[39mnot\u001b[39;00m block \u001b[39mand\u001b[39;00m \u001b[39mnot\u001b[39;00m \u001b[39mself\u001b[39m\u001b[39m.\u001b[39m_execute(conn, conn\u001b[39m.\u001b[39mcan_read, timeout\u001b[39m=\u001b[39mtimeout):\n\u001b[1;32m   1499\u001b[0m     \u001b[39mreturn\u001b[39;00m \u001b[39mNone\u001b[39;00m\n\u001b[0;32m-> 1500\u001b[0m response \u001b[39m=\u001b[39m \u001b[39mself\u001b[39;49m\u001b[39m.\u001b[39;49m_execute(conn, conn\u001b[39m.\u001b[39;49mread_response)\n\u001b[1;32m   1502\u001b[0m \u001b[39mif\u001b[39;00m \u001b[39mself\u001b[39m\u001b[39m.\u001b[39mis_health_check_response(response):\n\u001b[1;32m   1503\u001b[0m     \u001b[39m# ignore the health check message as user might not expect it\u001b[39;00m\n\u001b[1;32m   1504\u001b[0m     \u001b[39mself\u001b[39m\u001b[39m.\u001b[39mhealth_check_response_counter \u001b[39m-\u001b[39m\u001b[39m=\u001b[39m \u001b[39m1\u001b[39m\n",
      "File \u001b[0;32m/usr/local/lib/python3.9/dist-packages/redis/client.py:1482\u001b[0m, in \u001b[0;36mPubSub._execute\u001b[0;34m(self, conn, command, *args, **kwargs)\u001b[0m\n\u001b[1;32m   1474\u001b[0m \u001b[39mdef\u001b[39;00m \u001b[39m_execute\u001b[39m(\u001b[39mself\u001b[39m, conn, command, \u001b[39m*\u001b[39margs, \u001b[39m*\u001b[39m\u001b[39m*\u001b[39mkwargs):\n\u001b[1;32m   1475\u001b[0m     \u001b[39m\"\"\"\u001b[39;00m\n\u001b[1;32m   1476\u001b[0m \u001b[39m    Connect manually upon disconnection. If the Redis server is down,\u001b[39;00m\n\u001b[1;32m   1477\u001b[0m \u001b[39m    this will fail and raise a ConnectionError as desired.\u001b[39;00m\n\u001b[0;32m   (...)\u001b[0m\n\u001b[1;32m   1480\u001b[0m \u001b[39m    patterns we were previously listening to\u001b[39;00m\n\u001b[1;32m   1481\u001b[0m \u001b[39m    \"\"\"\u001b[39;00m\n\u001b[0;32m-> 1482\u001b[0m     \u001b[39mreturn\u001b[39;00m conn\u001b[39m.\u001b[39;49mretry\u001b[39m.\u001b[39;49mcall_with_retry(\n\u001b[1;32m   1483\u001b[0m         \u001b[39mlambda\u001b[39;49;00m: command(\u001b[39m*\u001b[39;49margs, \u001b[39m*\u001b[39;49m\u001b[39m*\u001b[39;49mkwargs),\n\u001b[1;32m   1484\u001b[0m         \u001b[39mlambda\u001b[39;49;00m error: \u001b[39mself\u001b[39;49m\u001b[39m.\u001b[39;49m_disconnect_raise_connect(conn, error),\n\u001b[1;32m   1485\u001b[0m     )\n",
      "File \u001b[0;32m/usr/local/lib/python3.9/dist-packages/redis/retry.py:49\u001b[0m, in \u001b[0;36mRetry.call_with_retry\u001b[0;34m(self, do, fail)\u001b[0m\n\u001b[1;32m     47\u001b[0m \u001b[39mexcept\u001b[39;00m \u001b[39mself\u001b[39m\u001b[39m.\u001b[39m_supported_errors \u001b[39mas\u001b[39;00m error:\n\u001b[1;32m     48\u001b[0m     failures \u001b[39m+\u001b[39m\u001b[39m=\u001b[39m \u001b[39m1\u001b[39m\n\u001b[0;32m---> 49\u001b[0m     fail(error)\n\u001b[1;32m     50\u001b[0m     \u001b[39mif\u001b[39;00m \u001b[39mself\u001b[39m\u001b[39m.\u001b[39m_retries \u001b[39m>\u001b[39m\u001b[39m=\u001b[39m \u001b[39m0\u001b[39m \u001b[39mand\u001b[39;00m failures \u001b[39m>\u001b[39m \u001b[39mself\u001b[39m\u001b[39m.\u001b[39m_retries:\n\u001b[1;32m     51\u001b[0m         \u001b[39mraise\u001b[39;00m error\n",
      "File \u001b[0;32m/usr/local/lib/python3.9/dist-packages/redis/client.py:1484\u001b[0m, in \u001b[0;36mPubSub._execute.<locals>.<lambda>\u001b[0;34m(error)\u001b[0m\n\u001b[1;32m   1474\u001b[0m \u001b[39mdef\u001b[39;00m \u001b[39m_execute\u001b[39m(\u001b[39mself\u001b[39m, conn, command, \u001b[39m*\u001b[39margs, \u001b[39m*\u001b[39m\u001b[39m*\u001b[39mkwargs):\n\u001b[1;32m   1475\u001b[0m     \u001b[39m\"\"\"\u001b[39;00m\n\u001b[1;32m   1476\u001b[0m \u001b[39m    Connect manually upon disconnection. If the Redis server is down,\u001b[39;00m\n\u001b[1;32m   1477\u001b[0m \u001b[39m    this will fail and raise a ConnectionError as desired.\u001b[39;00m\n\u001b[0;32m   (...)\u001b[0m\n\u001b[1;32m   1480\u001b[0m \u001b[39m    patterns we were previously listening to\u001b[39;00m\n\u001b[1;32m   1481\u001b[0m \u001b[39m    \"\"\"\u001b[39;00m\n\u001b[1;32m   1482\u001b[0m     \u001b[39mreturn\u001b[39;00m conn\u001b[39m.\u001b[39mretry\u001b[39m.\u001b[39mcall_with_retry(\n\u001b[1;32m   1483\u001b[0m         \u001b[39mlambda\u001b[39;00m: command(\u001b[39m*\u001b[39margs, \u001b[39m*\u001b[39m\u001b[39m*\u001b[39mkwargs),\n\u001b[0;32m-> 1484\u001b[0m         \u001b[39mlambda\u001b[39;00m error: \u001b[39mself\u001b[39;49m\u001b[39m.\u001b[39;49m_disconnect_raise_connect(conn, error),\n\u001b[1;32m   1485\u001b[0m     )\n",
      "File \u001b[0;32m/usr/local/lib/python3.9/dist-packages/redis/client.py:1471\u001b[0m, in \u001b[0;36mPubSub._disconnect_raise_connect\u001b[0;34m(self, conn, error)\u001b[0m\n\u001b[1;32m   1469\u001b[0m conn\u001b[39m.\u001b[39mdisconnect()\n\u001b[1;32m   1470\u001b[0m \u001b[39mif\u001b[39;00m \u001b[39mnot\u001b[39;00m (conn\u001b[39m.\u001b[39mretry_on_timeout \u001b[39mand\u001b[39;00m \u001b[39misinstance\u001b[39m(error, \u001b[39mTimeoutError\u001b[39;00m)):\n\u001b[0;32m-> 1471\u001b[0m     \u001b[39mraise\u001b[39;00m error\n\u001b[1;32m   1472\u001b[0m conn\u001b[39m.\u001b[39mconnect()\n",
      "File \u001b[0;32m/usr/local/lib/python3.9/dist-packages/redis/retry.py:46\u001b[0m, in \u001b[0;36mRetry.call_with_retry\u001b[0;34m(self, do, fail)\u001b[0m\n\u001b[1;32m     44\u001b[0m \u001b[39mwhile\u001b[39;00m \u001b[39mTrue\u001b[39;00m:\n\u001b[1;32m     45\u001b[0m     \u001b[39mtry\u001b[39;00m:\n\u001b[0;32m---> 46\u001b[0m         \u001b[39mreturn\u001b[39;00m do()\n\u001b[1;32m     47\u001b[0m     \u001b[39mexcept\u001b[39;00m \u001b[39mself\u001b[39m\u001b[39m.\u001b[39m_supported_errors \u001b[39mas\u001b[39;00m error:\n\u001b[1;32m     48\u001b[0m         failures \u001b[39m+\u001b[39m\u001b[39m=\u001b[39m \u001b[39m1\u001b[39m\n",
      "File \u001b[0;32m/usr/local/lib/python3.9/dist-packages/redis/client.py:1483\u001b[0m, in \u001b[0;36mPubSub._execute.<locals>.<lambda>\u001b[0;34m()\u001b[0m\n\u001b[1;32m   1474\u001b[0m \u001b[39mdef\u001b[39;00m \u001b[39m_execute\u001b[39m(\u001b[39mself\u001b[39m, conn, command, \u001b[39m*\u001b[39margs, \u001b[39m*\u001b[39m\u001b[39m*\u001b[39mkwargs):\n\u001b[1;32m   1475\u001b[0m     \u001b[39m\"\"\"\u001b[39;00m\n\u001b[1;32m   1476\u001b[0m \u001b[39m    Connect manually upon disconnection. If the Redis server is down,\u001b[39;00m\n\u001b[1;32m   1477\u001b[0m \u001b[39m    this will fail and raise a ConnectionError as desired.\u001b[39;00m\n\u001b[0;32m   (...)\u001b[0m\n\u001b[1;32m   1480\u001b[0m \u001b[39m    patterns we were previously listening to\u001b[39;00m\n\u001b[1;32m   1481\u001b[0m \u001b[39m    \"\"\"\u001b[39;00m\n\u001b[1;32m   1482\u001b[0m     \u001b[39mreturn\u001b[39;00m conn\u001b[39m.\u001b[39mretry\u001b[39m.\u001b[39mcall_with_retry(\n\u001b[0;32m-> 1483\u001b[0m         \u001b[39mlambda\u001b[39;00m: command(\u001b[39m*\u001b[39;49margs, \u001b[39m*\u001b[39;49m\u001b[39m*\u001b[39;49mkwargs),\n\u001b[1;32m   1484\u001b[0m         \u001b[39mlambda\u001b[39;00m error: \u001b[39mself\u001b[39m\u001b[39m.\u001b[39m_disconnect_raise_connect(conn, error),\n\u001b[1;32m   1485\u001b[0m     )\n",
      "File \u001b[0;32m/usr/local/lib/python3.9/dist-packages/redis/connection.py:824\u001b[0m, in \u001b[0;36mConnection.read_response\u001b[0;34m(self, disable_decoding)\u001b[0m\n\u001b[1;32m    821\u001b[0m     hosterr \u001b[39m=\u001b[39m \u001b[39m\"\u001b[39m\u001b[39mconnection\u001b[39m\u001b[39m\"\u001b[39m\n\u001b[1;32m    823\u001b[0m \u001b[39mtry\u001b[39;00m:\n\u001b[0;32m--> 824\u001b[0m     response \u001b[39m=\u001b[39m \u001b[39mself\u001b[39;49m\u001b[39m.\u001b[39;49m_parser\u001b[39m.\u001b[39;49mread_response(disable_decoding\u001b[39m=\u001b[39;49mdisable_decoding)\n\u001b[1;32m    825\u001b[0m \u001b[39mexcept\u001b[39;00m socket\u001b[39m.\u001b[39mtimeout:\n\u001b[1;32m    826\u001b[0m     \u001b[39mself\u001b[39m\u001b[39m.\u001b[39mdisconnect()\n",
      "File \u001b[0;32m/usr/local/lib/python3.9/dist-packages/redis/connection.py:318\u001b[0m, in \u001b[0;36mPythonParser.read_response\u001b[0;34m(self, disable_decoding)\u001b[0m\n\u001b[1;32m    317\u001b[0m \u001b[39mdef\u001b[39;00m \u001b[39mread_response\u001b[39m(\u001b[39mself\u001b[39m, disable_decoding\u001b[39m=\u001b[39m\u001b[39mFalse\u001b[39;00m):\n\u001b[0;32m--> 318\u001b[0m     raw \u001b[39m=\u001b[39m \u001b[39mself\u001b[39;49m\u001b[39m.\u001b[39;49m_buffer\u001b[39m.\u001b[39;49mreadline()\n\u001b[1;32m    319\u001b[0m     \u001b[39mif\u001b[39;00m \u001b[39mnot\u001b[39;00m raw:\n\u001b[1;32m    320\u001b[0m         \u001b[39mraise\u001b[39;00m \u001b[39mConnectionError\u001b[39;00m(SERVER_CLOSED_CONNECTION_ERROR)\n",
      "File \u001b[0;32m/usr/local/lib/python3.9/dist-packages/redis/connection.py:249\u001b[0m, in \u001b[0;36mSocketBuffer.readline\u001b[0;34m(self)\u001b[0m\n\u001b[1;32m    246\u001b[0m data \u001b[39m=\u001b[39m buf\u001b[39m.\u001b[39mreadline()\n\u001b[1;32m    247\u001b[0m \u001b[39mwhile\u001b[39;00m \u001b[39mnot\u001b[39;00m data\u001b[39m.\u001b[39mendswith(SYM_CRLF):\n\u001b[1;32m    248\u001b[0m     \u001b[39m# there's more data in the socket that we need\u001b[39;00m\n\u001b[0;32m--> 249\u001b[0m     \u001b[39mself\u001b[39;49m\u001b[39m.\u001b[39;49m_read_from_socket()\n\u001b[1;32m    250\u001b[0m     buf\u001b[39m.\u001b[39mseek(\u001b[39mself\u001b[39m\u001b[39m.\u001b[39mbytes_read)\n\u001b[1;32m    251\u001b[0m     data \u001b[39m=\u001b[39m buf\u001b[39m.\u001b[39mreadline()\n",
      "File \u001b[0;32m/usr/local/lib/python3.9/dist-packages/redis/connection.py:195\u001b[0m, in \u001b[0;36mSocketBuffer._read_from_socket\u001b[0;34m(self, length, timeout, raise_on_timeout)\u001b[0m\n\u001b[1;32m    193\u001b[0m \u001b[39m# an empty string indicates the server shutdown the socket\u001b[39;00m\n\u001b[1;32m    194\u001b[0m \u001b[39mif\u001b[39;00m \u001b[39misinstance\u001b[39m(data, \u001b[39mbytes\u001b[39m) \u001b[39mand\u001b[39;00m \u001b[39mlen\u001b[39m(data) \u001b[39m==\u001b[39m \u001b[39m0\u001b[39m:\n\u001b[0;32m--> 195\u001b[0m     \u001b[39mraise\u001b[39;00m \u001b[39mConnectionError\u001b[39;00m(SERVER_CLOSED_CONNECTION_ERROR)\n\u001b[1;32m    196\u001b[0m buf\u001b[39m.\u001b[39mwrite(data)\n\u001b[1;32m    197\u001b[0m data_length \u001b[39m=\u001b[39m \u001b[39mlen\u001b[39m(data)\n",
      "\u001b[0;31mConnectionError\u001b[0m: Connection closed by server."
     ]
    }
   ],
   "source": [
    "for tests in getData(p) :\n",
    "    r.publish(  channel=\"Log\", \n",
    "                message=pickle.dumps(\n",
    "                    (   \n",
    "                        tests[\"id\"], \n",
    "                        computeAttack(tests[\"results\"])\n",
    "                    )\n",
    "                )\n",
    "            )"
   ]
  }
 ],
 "metadata": {
  "kernelspec": {
   "display_name": "Python 3.9.2 64-bit",
   "language": "python",
   "name": "python3"
  },
  "language_info": {
   "codemirror_mode": {
    "name": "ipython",
    "version": 3
   },
   "file_extension": ".py",
   "mimetype": "text/x-python",
   "name": "python",
   "nbconvert_exporter": "python",
   "pygments_lexer": "ipython3",
   "version": "3.9.2"
  },
  "orig_nbformat": 4,
  "vscode": {
   "interpreter": {
    "hash": "916dbcbb3f70747c44a77c7bcd40155683ae19c65e1c03b4aa3499c5328201f1"
   }
  }
 },
 "nbformat": 4,
 "nbformat_minor": 2
}
