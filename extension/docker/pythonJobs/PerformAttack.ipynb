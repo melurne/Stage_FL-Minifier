{
 "cells": [
  {
   "cell_type": "code",
   "execution_count": 35,
   "metadata": {},
   "outputs": [],
   "source": [
    "import redis\n",
    "import time\n",
    "import pickle"
   ]
  },
  {
   "cell_type": "code",
   "execution_count": null,
   "metadata": {},
   "outputs": [],
   "source": [
    "def getLUT() :\n",
    "    return {}"
   ]
  },
  {
   "cell_type": "code",
   "execution_count": null,
   "metadata": {},
   "outputs": [],
   "source": [
    "def computeAttack(tests) :\n",
    "    lut = getLUT()\n",
    "    return lut[tests]"
   ]
  },
  {
   "cell_type": "code",
   "execution_count": 37,
   "metadata": {},
   "outputs": [],
   "source": [
    "pool = redis.ConnectionPool(host=\"localhost\", port=6379, db=0)\n",
    "r = redis.Redis(connection_pool=pool)\n",
    "p = r.pubsub()\n",
    "\n",
    "p.subscribe(\"Queue\")\n",
    "\n",
    "p.get_message()\n",
    "time.sleep(0.5)\n",
    "def getData(p) :\n",
    "    for mes in p.listen() :\n",
    "        print(pickle.loads(mes[\"data\"]))\n"
   ]
  },
  {
   "cell_type": "code",
   "execution_count": null,
   "metadata": {},
   "outputs": [],
   "source": [
    "for tests in getData(p) :\n",
    "    r.publish(  channel=\"Log\", \n",
    "                message=pickle.dumps(\n",
    "                    (   \n",
    "                        tests[1], \n",
    "                        computeAttack(tests[1])\n",
    "                    )\n",
    "                )\n",
    "            )"
   ]
  }
 ],
 "metadata": {
  "kernelspec": {
   "display_name": "Python 3.9.2 64-bit",
   "language": "python",
   "name": "python3"
  },
  "language_info": {
   "codemirror_mode": {
    "name": "ipython",
    "version": 3
   },
   "file_extension": ".py",
   "mimetype": "text/x-python",
   "name": "python",
   "nbconvert_exporter": "python",
   "pygments_lexer": "ipython3",
   "version": "3.9.2"
  },
  "orig_nbformat": 4,
  "vscode": {
   "interpreter": {
    "hash": "916dbcbb3f70747c44a77c7bcd40155683ae19c65e1c03b4aa3499c5328201f1"
   }
  }
 },
 "nbformat": 4,
 "nbformat_minor": 2
}
