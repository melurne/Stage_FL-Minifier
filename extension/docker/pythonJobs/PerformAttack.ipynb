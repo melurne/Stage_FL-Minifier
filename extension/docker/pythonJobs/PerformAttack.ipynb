{
 "cells": [
  {
   "cell_type": "code",
   "execution_count": null,
   "metadata": {},
   "outputs": [],
   "source": [
    "import redis\n",
    "import time\n",
    "import pickle\n",
    "import json"
   ]
  },
  {
   "cell_type": "code",
   "execution_count": null,
   "metadata": {},
   "outputs": [],
   "source": [
    "def getLUT() :\n",
    "    \"\"\" \n",
    "        LUT de test avec 3 listes et 5 règles: \n",
    "            L1 = {0, 1, 3, 4}, \n",
    "            L2 = {0, 2, 3}, \n",
    "            L3 = {1, 2, 4}\n",
    "    \"\"\"\n",
    "    return {\n",
    "            pickle.dumps([False, False, False, False, False]) : [],\n",
    "            pickle.dumps([False, True, True, False, True]) : [\"L3\"],\n",
    "            pickle.dumps([True, False, True, True, False]) : [\"L2\"],\n",
    "            pickle.dumps([True, False, True, True, True]) : [\"L2\", \"L3\"],\n",
    "            pickle.dumps([True, True, False, True, True]) : [\"L1\"],\n",
    "            pickle.dumps([True, True, True, True, True]) : [\"L1\", \"L2\", \"L3\"]\n",
    "    }"
   ]
  },
  {
   "cell_type": "code",
   "execution_count": null,
   "metadata": {},
   "outputs": [],
   "source": [
    "def computeAttack(tests) :\n",
    "    lut = getLUT()\n",
    "    return lut[pickle.dumps(tests)]"
   ]
  },
  {
   "cell_type": "code",
   "execution_count": null,
   "metadata": {},
   "outputs": [],
   "source": [
    "# Connect to Redis\n",
    "\n",
    "pool = redis.ConnectionPool(host=\"queue\", port=6379, db=0)\n",
    "r = redis.Redis(connection_pool=pool)\n",
    "p = r.pubsub()\n",
    "\n",
    "p.subscribe(\"Queue\")\n",
    "\n",
    "p.get_message()\n",
    "time.sleep(0.5)\n",
    "\n",
    "def getData(p) :\n",
    "    \"\"\" \n",
    "    Get incoming items in the queue as a generator\n",
    "    \"\"\"\n",
    "    for mes in p.listen() :\n",
    "        print(mes)\n",
    "        if type(mes[\"data\"]) == type(b'') :\n",
    "            yield json.loads(mes[\"data\"])\n"
   ]
  },
  {
   "cell_type": "code",
   "execution_count": null,
   "metadata": {},
   "outputs": [],
   "source": [
    "for tests in getData(p) :\n",
    "    # Compute the test results and send them to be logged\n",
    "    r.publish(  channel=\"Log\", \n",
    "                message=pickle.dumps(\n",
    "                    (   \n",
    "                        tests[\"id\"], \n",
    "                        computeAttack(tests[\"results\"])\n",
    "                    )\n",
    "                )\n",
    "            )"
   ]
  }
 ],
 "metadata": {
  "kernelspec": {
   "display_name": "Python 3.9.2 64-bit",
   "language": "python",
   "name": "python3"
  },
  "language_info": {
   "codemirror_mode": {
    "name": "ipython",
    "version": 3
   },
   "file_extension": ".py",
   "mimetype": "text/x-python",
   "name": "python",
   "nbconvert_exporter": "python",
   "pygments_lexer": "ipython3",
   "version": "3.9.2"
  },
  "orig_nbformat": 4,
  "vscode": {
   "interpreter": {
    "hash": "916dbcbb3f70747c44a77c7bcd40155683ae19c65e1c03b4aa3499c5328201f1"
   }
  }
 },
 "nbformat": 4,
 "nbformat_minor": 2
}
